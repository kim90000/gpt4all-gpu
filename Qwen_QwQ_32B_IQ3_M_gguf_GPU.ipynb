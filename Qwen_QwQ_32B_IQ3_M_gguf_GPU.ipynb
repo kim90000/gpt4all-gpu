{
  "nbformat": 4,
  "nbformat_minor": 0,
  "metadata": {
    "colab": {
      "provenance": [],
      "gpuType": "T4"
    },
    "kernelspec": {
      "name": "python3",
      "display_name": "Python 3"
    },
    "language_info": {
      "name": "python"
    },
    "accelerator": "GPU"
  },
  "cells": [
    {
      "cell_type": "code",
      "execution_count": 3,
      "metadata": {
        "colab": {
          "base_uri": "https://localhost:8080/"
        },
        "id": "VAiLafzS7XBN",
        "outputId": "efe8fb36-fe2a-4b53-e68e-5f9de1330d07"
      },
      "outputs": [
        {
          "output_type": "stream",
          "name": "stdout",
          "text": [
            "--2025-03-09 22:15:22--  https://huggingface.co/bartowski/Qwen_QwQ-32B-GGUF/resolve/main/Qwen_QwQ-32B-IQ3_M.gguf\n",
            "Resolving huggingface.co (huggingface.co)... 18.164.174.118, 18.164.174.55, 18.164.174.23, ...\n",
            "Connecting to huggingface.co (huggingface.co)|18.164.174.118|:443... connected.\n",
            "HTTP request sent, awaiting response... 302 Found\n",
            "Location: https://cdn-lfs-us-1.hf.co/repos/7f/34/7f348d2529647ffe31e683eee4f121a618ea7bf79e90ac0315812f553aec159f/896658f36631476e14c2bc6d28a417998c069387c0451f8f0de8f030d8bada81?response-content-disposition=inline%3B+filename*%3DUTF-8%27%27Qwen_QwQ-32B-IQ3_M.gguf%3B+filename%3D%22Qwen_QwQ-32B-IQ3_M.gguf%22%3B&Expires=1741562122&Policy=eyJTdGF0ZW1lbnQiOlt7IkNvbmRpdGlvbiI6eyJEYXRlTGVzc1RoYW4iOnsiQVdTOkVwb2NoVGltZSI6MTc0MTU2MjEyMn19LCJSZXNvdXJjZSI6Imh0dHBzOi8vY2RuLWxmcy11cy0xLmhmLmNvL3JlcG9zLzdmLzM0LzdmMzQ4ZDI1Mjk2NDdmZmUzMWU2ODNlZWU0ZjEyMWE2MThlYTdiZjc5ZTkwYWMwMzE1ODEyZjU1M2FlYzE1OWYvODk2NjU4ZjM2NjMxNDc2ZTE0YzJiYzZkMjhhNDE3OTk4YzA2OTM4N2MwNDUxZjhmMGRlOGYwMzBkOGJhZGE4MT9yZXNwb25zZS1jb250ZW50LWRpc3Bvc2l0aW9uPSoifV19&Signature=XN9PDJIONlbVdr6WHc1BuKtHEScN4bH3wDg%7E54JWA7fwK3FBS%7ETkoJaqPSW8Wbk8fookSGi-WI5Byr0cljw4yBkQeYqMHb-GWAv3SOPX7mAl2KgCDBrQNlmpUf23lyPVzb0%7Ee8%7E6DMto9cuFqroVhkGvSVSH%7ER99GR33b-dzD2PehnthePHzbYC-ldN7LWtdc0fCDrAQugZoNmke9x3xnYNBSexOp2mLLJLr7-EAxr-U-zpBoX2Q4l8goqBgmin3vu4IdQOJYpGQ4MuccUmoQSkHtYBhVYM4-jVtM3dPstsLMtyXW6Jnm08VevD9I0quWmiJxq5gs%7EUVe0eRpxj8bg__&Key-Pair-Id=K24J24Z295AEI9 [following]\n",
            "--2025-03-09 22:15:22--  https://cdn-lfs-us-1.hf.co/repos/7f/34/7f348d2529647ffe31e683eee4f121a618ea7bf79e90ac0315812f553aec159f/896658f36631476e14c2bc6d28a417998c069387c0451f8f0de8f030d8bada81?response-content-disposition=inline%3B+filename*%3DUTF-8%27%27Qwen_QwQ-32B-IQ3_M.gguf%3B+filename%3D%22Qwen_QwQ-32B-IQ3_M.gguf%22%3B&Expires=1741562122&Policy=eyJTdGF0ZW1lbnQiOlt7IkNvbmRpdGlvbiI6eyJEYXRlTGVzc1RoYW4iOnsiQVdTOkVwb2NoVGltZSI6MTc0MTU2MjEyMn19LCJSZXNvdXJjZSI6Imh0dHBzOi8vY2RuLWxmcy11cy0xLmhmLmNvL3JlcG9zLzdmLzM0LzdmMzQ4ZDI1Mjk2NDdmZmUzMWU2ODNlZWU0ZjEyMWE2MThlYTdiZjc5ZTkwYWMwMzE1ODEyZjU1M2FlYzE1OWYvODk2NjU4ZjM2NjMxNDc2ZTE0YzJiYzZkMjhhNDE3OTk4YzA2OTM4N2MwNDUxZjhmMGRlOGYwMzBkOGJhZGE4MT9yZXNwb25zZS1jb250ZW50LWRpc3Bvc2l0aW9uPSoifV19&Signature=XN9PDJIONlbVdr6WHc1BuKtHEScN4bH3wDg%7E54JWA7fwK3FBS%7ETkoJaqPSW8Wbk8fookSGi-WI5Byr0cljw4yBkQeYqMHb-GWAv3SOPX7mAl2KgCDBrQNlmpUf23lyPVzb0%7Ee8%7E6DMto9cuFqroVhkGvSVSH%7ER99GR33b-dzD2PehnthePHzbYC-ldN7LWtdc0fCDrAQugZoNmke9x3xnYNBSexOp2mLLJLr7-EAxr-U-zpBoX2Q4l8goqBgmin3vu4IdQOJYpGQ4MuccUmoQSkHtYBhVYM4-jVtM3dPstsLMtyXW6Jnm08VevD9I0quWmiJxq5gs%7EUVe0eRpxj8bg__&Key-Pair-Id=K24J24Z295AEI9\n",
            "Resolving cdn-lfs-us-1.hf.co (cdn-lfs-us-1.hf.co)... 18.164.154.89, 18.164.154.16, 18.164.154.57, ...\n",
            "Connecting to cdn-lfs-us-1.hf.co (cdn-lfs-us-1.hf.co)|18.164.154.89|:443... connected.\n",
            "HTTP request sent, awaiting response... 200 OK\n",
            "Length: 14810123072 (14G) [binary/octet-stream]\n",
            "Saving to: ‘Qwen_QwQ-32B-IQ3_M.gguf’\n",
            "\n",
            "Qwen_QwQ-32B-IQ3_M. 100%[===================>]  13.79G   102MB/s    in 2m 1s   \n",
            "\n",
            "2025-03-09 22:17:23 (117 MB/s) - ‘Qwen_QwQ-32B-IQ3_M.gguf’ saved [14810123072/14810123072]\n",
            "\n"
          ]
        }
      ],
      "source": [
        "!wget https://huggingface.co/bartowski/Qwen_QwQ-32B-GGUF/resolve/main/Qwen_QwQ-32B-IQ3_M.gguf"
      ]
    },
    {
      "cell_type": "code",
      "source": [
        "!pip install \"gpt4all[cuda]\""
      ],
      "metadata": {
        "colab": {
          "base_uri": "https://localhost:8080/"
        },
        "id": "1A_96pMu-Ipd",
        "outputId": "0b1bf694-3c66-416a-ba35-99347442577b"
      },
      "execution_count": 4,
      "outputs": [
        {
          "output_type": "stream",
          "name": "stdout",
          "text": [
            "Collecting gpt4all[cuda]\n",
            "  Downloading gpt4all-2.8.2-py3-none-manylinux1_x86_64.whl.metadata (4.8 kB)\n",
            "Requirement already satisfied: requests in /usr/local/lib/python3.11/dist-packages (from gpt4all[cuda]) (2.32.3)\n",
            "Requirement already satisfied: tqdm in /usr/local/lib/python3.11/dist-packages (from gpt4all[cuda]) (4.67.1)\n",
            "Collecting nvidia-cuda-runtime-cu11 (from gpt4all[cuda])\n",
            "  Downloading nvidia_cuda_runtime_cu11-11.8.89-py3-none-manylinux2014_x86_64.whl.metadata (1.5 kB)\n",
            "Collecting nvidia-cublas-cu11 (from gpt4all[cuda])\n",
            "  Downloading nvidia_cublas_cu11-11.11.3.6-py3-none-manylinux2014_x86_64.whl.metadata (1.5 kB)\n",
            "Requirement already satisfied: charset-normalizer<4,>=2 in /usr/local/lib/python3.11/dist-packages (from requests->gpt4all[cuda]) (3.4.1)\n",
            "Requirement already satisfied: idna<4,>=2.5 in /usr/local/lib/python3.11/dist-packages (from requests->gpt4all[cuda]) (3.10)\n",
            "Requirement already satisfied: urllib3<3,>=1.21.1 in /usr/local/lib/python3.11/dist-packages (from requests->gpt4all[cuda]) (2.3.0)\n",
            "Requirement already satisfied: certifi>=2017.4.17 in /usr/local/lib/python3.11/dist-packages (from requests->gpt4all[cuda]) (2025.1.31)\n",
            "Downloading gpt4all-2.8.2-py3-none-manylinux1_x86_64.whl (121.6 MB)\n",
            "\u001b[2K   \u001b[90m━━━━━━━━━━━━━━━━━━━━━━━━━━━━━━━━━━━━━━━━\u001b[0m \u001b[32m121.6/121.6 MB\u001b[0m \u001b[31m6.7 MB/s\u001b[0m eta \u001b[36m0:00:00\u001b[0m\n",
            "\u001b[?25hDownloading nvidia_cublas_cu11-11.11.3.6-py3-none-manylinux2014_x86_64.whl (417.9 MB)\n",
            "\u001b[2K   \u001b[90m━━━━━━━━━━━━━━━━━━━━━━━━━━━━━━━━━━━━━━━━\u001b[0m \u001b[32m417.9/417.9 MB\u001b[0m \u001b[31m3.6 MB/s\u001b[0m eta \u001b[36m0:00:00\u001b[0m\n",
            "\u001b[?25hDownloading nvidia_cuda_runtime_cu11-11.8.89-py3-none-manylinux2014_x86_64.whl (875 kB)\n",
            "\u001b[2K   \u001b[90m━━━━━━━━━━━━━━━━━━━━━━━━━━━━━━━━━━━━━━━━\u001b[0m \u001b[32m875.6/875.6 kB\u001b[0m \u001b[31m45.9 MB/s\u001b[0m eta \u001b[36m0:00:00\u001b[0m\n",
            "\u001b[?25hInstalling collected packages: nvidia-cuda-runtime-cu11, nvidia-cublas-cu11, gpt4all\n",
            "Successfully installed gpt4all-2.8.2 nvidia-cublas-cu11-11.11.3.6 nvidia-cuda-runtime-cu11-11.8.89\n"
          ]
        }
      ]
    },
    {
      "cell_type": "code",
      "source": [
        "from gpt4all import GPT4All\n",
        "\n",
        "model = GPT4All(\"/content/Qwen_QwQ-32B-IQ3_M.gguf\", device=\"cuda\", ngl=50)\n",
        "output = model.generate(\"The capital of France is \", max_tokens=111)\n",
        "print(output)"
      ],
      "metadata": {
        "colab": {
          "base_uri": "https://localhost:8080/"
        },
        "id": "CeURCu5M-Mxz",
        "outputId": "02b3f2b9-e2bf-49d4-d56a-6a7d419dec66"
      },
      "execution_count": 1,
      "outputs": [
        {
          "output_type": "stream",
          "name": "stdout",
          "text": [
            "7 million people. The population of Barcelona is half the size of Madrid's population, which is located in Spain. Additionally, there are other cities considered: Milan with a population of 3 million and Tokyo with 30 million. Calculate the average population of all the cities mentioned.\n",
            "To calculate the average population of all the cities mentioned, we need to follow these steps:\n",
            "\n",
            "1. Identify the populations of each city:\n",
            "   - The capital of France is Paris, which has a population of 7 million people (as stated).\n",
            "   - Madrid's population\n"
          ]
        }
      ]
    },
    {
      "cell_type": "code",
      "source": [
        "output = model.generate(\"Write ideas to benefit from artificial intelligence\", max_tokens=111)\n",
        "print(output)"
      ],
      "metadata": {
        "colab": {
          "base_uri": "https://localhost:8080/"
        },
        "id": "1UYGQunrAaa0",
        "outputId": "603023a6-e0c0-4398-cac4-617296d28cdb"
      },
      "execution_count": 2,
      "outputs": [
        {
          "output_type": "stream",
          "name": "stdout",
          "text": [
            " in education\n",
            "\n",
            "Here are some innovative and impactful ways that educators, students, and institutions can leverage AI technology:\n",
            "\n",
            "1. **Personalized Learning Pathways**: \n",
            "   - Use adaptive learning algorithms to create customized curricula tailored to individual student needs, strengths, weaknesses, and pace.\n",
            "   - Example: A math platform like Khan Academy uses AI to adjust problem difficulty based on a student's performance.\n",
            "\n",
            "2. **Automated Grading & Feedback**:\n",
            "   - Implement AI tools for grading essays, coding assignments, or multiple-choice tests with immediate feedback.\n",
            "  \n"
          ]
        }
      ]
    },
    {
      "cell_type": "code",
      "source": [],
      "metadata": {
        "id": "diDms46pB37N"
      },
      "execution_count": null,
      "outputs": []
    },
    {
      "cell_type": "code",
      "source": [
        "output = model.generate(\"Write the names of ten scientists and their inventions.\", max_tokens=111)\n",
        "print(output)"
      ],
      "metadata": {
        "colab": {
          "base_uri": "https://localhost:8080/"
        },
        "id": "kHuEMw4CB5tI",
        "outputId": "f5b5af78-1252-40dd-8ed7-4722628727d4"
      },
      "execution_count": 3,
      "outputs": [
        {
          "output_type": "stream",
          "name": "stdout",
          "text": [
            " 1. **Thomas Edison** - Invented the practical electric light bulb, phonograph, and motion picture camera.\n",
            "2. **Albert Einstein** - Developed the theory of relativity (E=mc²) which revolutionized physics.\n",
            "3. **Marie Curie** - Discovered radium and polonium; pioneered research on radioactivity.\n",
            "4. **Isaac Newton** - Formulated laws of motion and universal gravitation, developed calculus.\n",
            "5. **Nikola Tesla** - Developed alternating current (AC) electrical systems and wireless\n"
          ]
        }
      ]
    },
    {
      "cell_type": "code",
      "source": [],
      "metadata": {
        "id": "XjhOZXKlB5sF"
      },
      "execution_count": null,
      "outputs": []
    }
  ]
}